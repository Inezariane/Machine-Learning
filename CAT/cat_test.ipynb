{
 "cells": [
  {
   "cell_type": "code",
   "execution_count": 9,
   "metadata": {},
   "outputs": [
    {
     "name": "stdout",
     "output_type": "stream",
     "text": [
      "Original DataFrame:\n",
      "    season  Price       Year\n",
      "0   Spring    199 2020-01-21\n",
      "1     Fall    102 2022-04-20\n",
      "2   Summer     51 2020-06-15\n",
      "3   Spring    137 2023-07-21\n",
      "4   Spring     87 2021-01-22\n",
      "5     Fall    179 2021-08-23\n",
      "6   Summer     70 2020-11-11\n",
      "7   Summer    107 2020-01-14\n",
      "8   Spring     71 2020-08-29\n",
      "9   Winter    138 2022-02-15\n",
      "10  Spring     98 2023-10-01\n",
      "11  Spring    108 2021-07-18\n",
      "12  Spring     64 2022-06-16\n",
      "13  Spring    100 2023-09-25\n",
      "14    Fall    157 2020-04-01\n",
      "15  Summer    104 2023-10-22\n",
      "16    Fall    113 2022-08-13\n",
      "17    Fall    180 2023-12-22\n",
      "18    Fall    100 2021-05-23\n",
      "19  Spring    184 2022-02-14\n",
      "\n",
      "Average Selling Price by Season:\n",
      "season\n",
      "Fall      138.500000\n",
      "Spring    116.444444\n",
      "Summer     83.000000\n",
      "Winter    138.000000\n",
      "Name: Price, dtype: float64\n"
     ]
    }
   ],
   "source": [
    "import pandas as pd\n",
    "import numpy as np\n",
    "from datetime import datetime\n",
    "\n",
    "np.random.seed(42)\n",
    "\n",
    "data = {\n",
    "    'season': np.random.choice(['Summer', 'Winter', 'Spring', 'Fall'], size=20),\n",
    "    'Price': np.random.randint(50, 200, size=20),  # Random prices between 50 and 200\n",
    "    'Year': pd.to_datetime(np.random.choice(pd.date_range('2020-01-01', '2023-12-31'), size=20))  # Random dates between 2020 and 2023\n",
    "}\n",
    "\n",
    "df = pd.DataFrame(data)\n",
    "\n",
    "print(\"Original DataFrame:\")\n",
    "print(df)\n",
    "\n",
    "avg_selling_price = df['Price'].groupby(df['season']).mean()\n",
    "\n",
    "\n",
    "print(\"\\nAverage Selling Price by Season:\")\n",
    "print(avg_selling_price)"
   ]
  }
 ],
 "metadata": {
  "kernelspec": {
   "display_name": "usr",
   "language": "python",
   "name": "python3"
  },
  "language_info": {
   "codemirror_mode": {
    "name": "ipython",
    "version": 3
   },
   "file_extension": ".py",
   "mimetype": "text/x-python",
   "name": "python",
   "nbconvert_exporter": "python",
   "pygments_lexer": "ipython3",
   "version": "3.12.9"
  }
 },
 "nbformat": 4,
 "nbformat_minor": 2
}
