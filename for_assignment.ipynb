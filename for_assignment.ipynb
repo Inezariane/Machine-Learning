{
 "cells": [
  {
   "cell_type": "code",
   "execution_count": 1,
   "metadata": {},
   "outputs": [
    {
     "name": "stdout",
     "output_type": "stream",
     "text": [
      "Original Data:\n",
      "    House_Size  Bedrooms\n",
      "0         500         1\n",
      "1        1000         2\n",
      "2        1500         2\n",
      "3        2000         3\n",
      "4        2500         3\n",
      "5        3000         4\n",
      "6        4000         4\n",
      "7        5000         5\n"
     ]
    }
   ],
   "source": [
    "import numpy as np\n",
    "import pandas as pd\n",
    "from sklearn.preprocessing import MinMaxScaler, StandardScaler\n",
    "\n",
    "# Sample dataset: House Size (sq. ft.) and Number of Bedrooms\n",
    "data = {\n",
    "    \"House_Size\": [500, 1000, 1500, 2000, 2500, 3000, 4000, 5000],\n",
    "    \"Bedrooms\": [1, 2, 2, 3, 3, 4, 4, 5]\n",
    "}\n",
    "\n",
    "df = pd.DataFrame(data)\n",
    "print(\"Original Data:\\n\", df)\n",
    "\n",
    "\n"
   ]
  },
  {
   "cell_type": "code",
   "execution_count": 2,
   "metadata": {},
   "outputs": [
    {
     "name": "stdout",
     "output_type": "stream",
     "text": [
      "\n",
      "Min-Max Scaled Data (0 to 1 range):\n",
      "    House_Size  Bedrooms\n",
      "0    0.000000      0.00\n",
      "1    0.111111      0.25\n",
      "2    0.222222      0.25\n",
      "3    0.333333      0.50\n",
      "4    0.444444      0.50\n",
      "5    0.555556      0.75\n",
      "6    0.777778      0.75\n",
      "7    1.000000      1.00\n"
     ]
    }
   ],
   "source": [
    "# Min-Max Scaling (Normalization)\n",
    "min_max_scaler = MinMaxScaler()\n",
    "df_min_max_scaled = pd.DataFrame(min_max_scaler.fit_transform(df), columns=df.columns)\n",
    "print(\"\\nMin-Max Scaled Data (0 to 1 range):\\n\", df_min_max_scaled)"
   ]
  },
  {
   "cell_type": "code",
   "execution_count": 3,
   "metadata": {},
   "outputs": [
    {
     "name": "stdout",
     "output_type": "stream",
     "text": [
      "\n",
      "Standardized Data (Mean=0, Std=1):\n",
      "    House_Size  Bedrooms\n",
      "0   -1.360749 -1.632993\n",
      "1   -1.009588 -0.816497\n",
      "2   -0.658427 -0.816497\n",
      "3   -0.307266  0.000000\n",
      "4    0.043895  0.000000\n",
      "5    0.395056  0.816497\n",
      "6    1.097378  0.816497\n",
      "7    1.799700  1.632993\n"
     ]
    }
   ],
   "source": [
    "# Standardization (Z-score Normalization)\n",
    "standard_scaler = StandardScaler()\n",
    "df_standard_scaled = pd.DataFrame(standard_scaler.fit_transform(df), columns=df.columns)\n",
    "print(\"\\nStandardized Data (Mean=0, Std=1):\\n\", df_standard_scaled)\n"
   ]
  }
 ],
 "metadata": {
  "kernelspec": {
   "display_name": "usr",
   "language": "python",
   "name": "python3"
  },
  "language_info": {
   "codemirror_mode": {
    "name": "ipython",
    "version": 3
   },
   "file_extension": ".py",
   "mimetype": "text/x-python",
   "name": "python",
   "nbconvert_exporter": "python",
   "pygments_lexer": "ipython3",
   "version": "3.12.8"
  }
 },
 "nbformat": 4,
 "nbformat_minor": 2
}
