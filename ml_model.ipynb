{
 "cells": [
  {
   "cell_type": "code",
   "execution_count": 1,
   "metadata": {},
   "outputs": [
    {
     "name": "stdout",
     "output_type": "stream",
     "text": [
      "          Unnamed: 0           year  seating_capacity  kilometers_driven  \\\n",
      "count  499746.000000  499746.000000     499746.000000      499746.000000   \n",
      "mean   249872.500000    2011.995770          5.999532         120.362064   \n",
      "std    144264.388151       7.204957          2.583512         108.449333   \n",
      "min         0.000000    2000.000000          2.000000           0.000000   \n",
      "25%    124936.250000    2006.000000          4.000000          30.730000   \n",
      "50%    249872.500000    2012.000000          6.000000          89.290000   \n",
      "75%    374808.750000    2018.000000          8.000000         185.150000   \n",
      "max    499745.000000    2024.000000         10.000000         479.980000   \n",
      "\n",
      "       selling_price      owner_age  proposed_purchase_price  \n",
      "count  499746.000000  499746.000000            499746.000000  \n",
      "mean    17658.561496      59.013005             19425.720447  \n",
      "std      7580.377670      23.933346              8358.384150  \n",
      "min      4500.000000      18.000000              4725.020000  \n",
      "25%     10965.082500      38.000000             12256.542500  \n",
      "50%     17522.420000      59.000000             19302.405000  \n",
      "75%     23976.257500      80.000000             26363.872500  \n",
      "max     31899.990000     100.000000             53801.410000  \n",
      "<class 'pandas.core.frame.DataFrame'>\n",
      "RangeIndex: 499746 entries, 0 to 499745\n",
      "Data columns (total 19 columns):\n",
      " #   Column                    Non-Null Count   Dtype  \n",
      "---  ------                    --------------   -----  \n",
      " 0   Unnamed: 0                499746 non-null  int64  \n",
      " 1   vin                       499746 non-null  object \n",
      " 2   manufacturer              499746 non-null  object \n",
      " 3   year                      499746 non-null  int64  \n",
      " 4   color                     499746 non-null  object \n",
      " 5   body_type                 499746 non-null  object \n",
      " 6   engine_type               499746 non-null  object \n",
      " 7   transmission              499746 non-null  object \n",
      " 8   fuel_type                 499746 non-null  object \n",
      " 9   seating_capacity          499746 non-null  int64  \n",
      " 10  kilometers_driven         499746 non-null  float64\n",
      " 11  vehicle_condition_status  499746 non-null  object \n",
      " 12  selling_price             499746 non-null  float64\n",
      " 13  owner_name                499746 non-null  object \n",
      " 14  owner_profession          499746 non-null  object \n",
      " 15  owner_age                 499746 non-null  int64  \n",
      " 16  owner_district            499746 non-null  object \n",
      " 17  proposed_purchase_price   499746 non-null  float64\n",
      " 18  purchase_date             499746 non-null  object \n",
      "dtypes: float64(3), int64(4), object(12)\n",
      "memory usage: 72.4+ MB\n",
      "None\n"
     ]
    }
   ],
   "source": [
    "import pandas as pd\n",
    "import numpy as np\n",
    "from sklearn.model_selection import train_test_split\n",
    "from sklearn.preprocessing import StandardScaler, LabelEncoder\n",
    "from sklearn.linear_model import LinearRegression\n",
    "from sklearn.metrics import root_mean_squared_error\n",
    "\n",
    "df = pd.read_csv('vehicles_copy.csv')\n",
    "print(df.describe())\n",
    "print(df.info())"
   ]
  },
  {
   "cell_type": "code",
   "execution_count": 22,
   "metadata": {},
   "outputs": [],
   "source": [
    "# Handle missing values\n",
    "\n",
    "df.fillna(df.median(numeric_only=True), inplace=True)  \n",
    "df.fillna(df.mode().iloc[0], inplace=True)  \n"
   ]
  },
  {
   "cell_type": "code",
   "execution_count": 23,
   "metadata": {},
   "outputs": [],
   "source": [
    "# Remove duplicates\n",
    "\n",
    "df.drop_duplicates(inplace=True)"
   ]
  },
  {
   "cell_type": "code",
   "execution_count": 24,
   "metadata": {},
   "outputs": [],
   "source": [
    "# Remove outliers\n",
    "\n",
    "def remove_outliers(data, col):\n",
    "    Q1 = data[col].quantile(0.25)\n",
    "    Q3 = data[col].quantile(0.75)\n",
    "    IQR = Q3 - Q1\n",
    "    lower_bound = Q1 - 1.5 * IQR\n",
    "    upper_bound = Q3 + 1.5 * IQR\n",
    "    return data[(data[col] >= lower_bound) & (data[col] <= upper_bound)]\n",
    "\n",
    "for column in df.select_dtypes(include=['number']).columns:\n",
    "    df = remove_outliers(df, column)\n"
   ]
  },
  {
   "cell_type": "code",
   "execution_count": 25,
   "metadata": {},
   "outputs": [],
   "source": [
    "# Encode the data\n",
    "\n",
    "label_encoders = {}\n",
    "for col in df.select_dtypes(include=['object']).columns:\n",
    "    le = LabelEncoder()\n",
    "    df[col] = le.fit_transform(df[col])\n",
    "    label_encoders[col] = le\n"
   ]
  },
  {
   "cell_type": "code",
   "execution_count": 26,
   "metadata": {},
   "outputs": [
    {
     "name": "stdout",
     "output_type": "stream",
     "text": [
      "(395216, 18) (98805, 18) (395216,) (98805,)\n",
      "Data preprocessing done\n"
     ]
    }
   ],
   "source": [
    "# Split the data\n",
    "\n",
    "target_column = 'selling_price'\n",
    "X = df.drop(columns=[target_column])\n",
    "y = df[target_column]\n",
    "X_train, X_test, y_train, y_test = train_test_split(X, y, test_size=0.2, random_state=42)\n",
    "print(X_train.shape, X_test.shape, y_train.shape, y_test.shape)\n",
    "print(\"Data preprocessing done\")"
   ]
  },
  {
   "cell_type": "code",
   "execution_count": 27,
   "metadata": {},
   "outputs": [
    {
     "name": "stdout",
     "output_type": "stream",
     "text": [
      "\n",
      " ====================== For Linear regression ======================\n",
      "Train RMSE: 428.3542020325439\n",
      "Test RMSE: 425.11402772185386\n"
     ]
    }
   ],
   "source": [
    "lr = LinearRegression(fit_intercept=True)\n",
    "lr.fit(X_train, y_train)\n",
    "\n",
    "y_train_pred = lr.predict(X_train)\n",
    "y_test_pred = lr.predict(X_test)\n",
    "\n",
    "train_rmse = root_mean_squared_error(y_train, y_train_pred)\n",
    "test_rmse_lr = root_mean_squared_error(y_test, y_test_pred)\n",
    "\n",
    "print(\"\\n ====================== For Linear regression ======================\")\n",
    "print(f\"Train RMSE: {train_rmse}\")\n",
    "print(f\"Test RMSE: {test_rmse_lr}\")"
   ]
  }
 ],
 "metadata": {
  "kernelspec": {
   "display_name": "usr",
   "language": "python",
   "name": "python3"
  },
  "language_info": {
   "codemirror_mode": {
    "name": "ipython",
    "version": 3
   },
   "file_extension": ".py",
   "mimetype": "text/x-python",
   "name": "python",
   "nbconvert_exporter": "python",
   "pygments_lexer": "ipython3",
   "version": "3.12.8"
  }
 },
 "nbformat": 4,
 "nbformat_minor": 2
}
